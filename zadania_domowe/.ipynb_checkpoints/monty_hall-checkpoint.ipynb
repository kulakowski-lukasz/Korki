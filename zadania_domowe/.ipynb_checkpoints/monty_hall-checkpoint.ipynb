{
 "cells": [
  {
   "cell_type": "markdown",
   "id": "ad8ae025",
   "metadata": {},
   "source": [
    "### P.M. Made me\n",
    "#### Inspiration source: https://en.wikipedia.org/wiki/Monty_Hall_problem"
   ]
  },
  {
   "cell_type": "code",
   "execution_count": 8,
   "id": "51813da1",
   "metadata": {},
   "outputs": [],
   "source": [
    "#libs\n",
    "import matplotlib.pyplot as plt\n",
    "import numpy as np\n",
    "import random"
   ]
  },
  {
   "cell_type": "markdown",
   "id": "d54df2cc",
   "metadata": {},
   "source": [
    "Some input data:\n",
    "- games -> number of single games with n number of tries\n",
    "- tries -> well, thats n \n",
    "- doors -> list representing number, of which one will contain prize"
   ]
  },
  {
   "cell_type": "code",
   "execution_count": 2,
   "id": "2d106c1b",
   "metadata": {},
   "outputs": [],
   "source": [
    "#input data\n",
    "games = 1000\n",
    "tries = 9999\n",
    "doors = [1,2,3]"
   ]
  },
  {
   "cell_type": "markdown",
   "id": "ae870a98",
   "metadata": {},
   "source": [
    "Now, function that represents the logic of the game.\n",
    "Key points to notice:\n",
    "\n",
    "- Doors with prize and choosen are assigned randomly out of list *doors*\n",
    "- When the hosts knew that choosen doors contained the prize, he opened one of the empty, thus player could only switch to the other empty doors (that is the first part of if statement)\n",
    "- When the host knew that choosen doors did not contain the prize, he opened the only empty doors, thus player could only switch to doors that contained the prize (that is the second part of if statement)\n",
    "- For more than 3 doors, I've took the aproach from the source - hosts (or pc in this case) opens all of the remaining, leaving only choosen doors and one more (with prize or not)"
   ]
  },
  {
   "cell_type": "code",
   "execution_count": 3,
   "id": "ff6d67eb",
   "metadata": {},
   "outputs": [],
   "source": [
    "def the_game(doors, tries, change):\n",
    "    wins = 0\n",
    "    for i in range(0,tries):\n",
    "        current_round = doors.copy()\n",
    "\n",
    "        #place for prize\n",
    "        prize = random.choice(current_round)\n",
    "\n",
    "        #picking a door\n",
    "        choice = random.choice(current_round)\n",
    "\n",
    "        #pc knows where the prize is\n",
    "        #so depending on that we have twos scenarios\n",
    "        if prize == choice:\n",
    "            #the first one - we know that chosen doors have prize\n",
    "            #we open random, empty doors, and the second empty doors are the one that can be switched too\n",
    "            current_round.remove(choice)\n",
    "            opening = random.choice(current_round)\n",
    "            current_round.remove(opening)\n",
    "            to_change =  current_round[0]\n",
    "        else:\n",
    "            #the sceond one - chosen doors do not have prize\n",
    "            #we have to open those that are empty and leave only those that have price\n",
    "            current_round.remove(choice)\n",
    "            current_round.remove(prize)\n",
    "            to_change =  prize\n",
    "\n",
    "\n",
    "        #simulating change:\n",
    "        if change:\n",
    "            choice = to_change\n",
    "\n",
    "        #final\n",
    "        if choice == prize:\n",
    "            wins += 1\n",
    "\n",
    "    return wins\n"
   ]
  },
  {
   "cell_type": "markdown",
   "id": "f1cf8098",
   "metadata": {},
   "source": [
    "Now, running many games to create some data for histograms"
   ]
  },
  {
   "cell_type": "code",
   "execution_count": 9,
   "id": "b15239b5",
   "metadata": {},
   "outputs": [],
   "source": [
    "#running many games - with change = True\n",
    "games_true = []\n",
    "for i in range(0, games):\n",
    "    games_true.append(the_game(doors, tries, True))\n",
    "games_true_mean = np.mean(games_true)\n",
    "\n",
    "#running many games - with change = False\n",
    "games_false = []\n",
    "for i in range(0, games):\n",
    "    games_false.append(the_game(doors, tries, False))\n",
    "games_false_mean = np.mean(games_false)\n"
   ]
  },
  {
   "cell_type": "code",
   "execution_count": 10,
   "id": "32d6846d",
   "metadata": {},
   "outputs": [
    {
     "data": {
      "image/png": "[encoded data removed]",
      "text/plain": [
       "<Figure size 432x288 with 1 Axes>"
      ]
     },
     "metadata": {
      "needs_background": "light"
     },
     "output_type": "display_data"
    },
    {
     "data": {
      "image/png": "[encoded data removed]",
      "text/plain": [
       "<Figure size 432x288 with 1 Axes>"
      ]
     },
     "metadata": {
      "needs_background": "light"
     },
     "output_type": "display_data"
    }
   ],
   "source": [
    "plt.hist(games_true)\n",
    "plt.title(f\"Number of wins in {games} games when doors were changed, mean={games_true_mean}\")\n",
    "plt.show()\n",
    "plt.hist(games_false)\n",
    "plt.title(f\"Number of wins in {games} games when doors were not changed, mean={games_false_mean}\")\n",
    "plt.show()"
   ]
  },
  {
   "cell_type": "markdown",
   "id": "3dea5704",
   "metadata": {},
   "source": [
    "So, for thousand games, with each game having 9999 tries, you'll get twice more wins just by changing the doors :)"
   ]
  }
 ],
 "metadata": {
  "kernelspec": {
   "display_name": "Python 3",
   "language": "python",
   "name": "python3"
  },
  "language_info": {
   "codemirror_mode": {
    "name": "ipython",
    "version": 3
   },
   "file_extension": ".py",
   "mimetype": "text/x-python",
   "name": "python",
   "nbconvert_exporter": "python",
   "pygments_lexer": "ipython3",
   "version": "3.8.5"
  }
 },
 "nbformat": 4,
 "nbformat_minor": 5
}
